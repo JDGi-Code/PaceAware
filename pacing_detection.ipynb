{
 "cells": [
  {
   "cell_type": "code",
   "execution_count": 1,
   "id": "9ba051f0-ce38-4923-8981-eef93f1a9871",
   "metadata": {
    "pycharm": {
     "name": "#%%\n"
    }
   },
   "outputs": [],
   "source": [
    "# PACING DETECTION: This program detects a user's behavior for stationary, walking, and pacing."
   ]
  },
  {
   "cell_type": "code",
   "execution_count": 2,
   "id": "58098456-26fc-44ef-9bac-59afda704b01",
   "metadata": {
    "pycharm": {
     "name": "#%%\n"
    }
   },
   "outputs": [],
   "source": [
    "# -- IMPORTS START --\n",
    "import matplotlib\n",
    "import matplotlib.pyplot as plt\n",
    "\n",
    "import os\n",
    "import sys\n",
    "import re\n",
    "import warnings\n",
    "import datetime\n",
    "import pathlib\n",
    "import glob\n",
    "import numpy as np\n",
    "import pandas as pd\n",
    "import joblib\n",
    "import pickle\n",
    "\n",
    "from sklearn import tree, metrics\n",
    "from sklearn.model_selection import train_test_split, cross_val_score\n",
    "from sklearn.metrics import accuracy_score, confusion_matrix, classification_report, ConfusionMatrixDisplay\n",
    "from scipy.signal import butter, filtfilt, find_peaks\n",
    "from sklearn.tree import DecisionTreeClassifier,export_graphviz\n",
    "from sklearn.model_selection import train_test_split\n",
    "# -- IMPORTS END --\n",
    "\n",
    "# enable graph zooming\n",
    "#%matplotlib notebook\n",
    "plt.rcParams['figure.figsize'] = [9, 6] # width, height in inches\n",
    "\n",
    "# 'ipython' error workaround\n",
    "#%matplotlib inline\n",
    "# Mute FutureWarning for frame.append method\n",
    "warnings.filterwarnings(\"ignore\", category=FutureWarning)"
   ]
  },
  {
   "cell_type": "code",
   "execution_count": 3,
   "id": "5301f2d1-daeb-4baa-a3e7-29e6583d5984",
   "metadata": {
    "pycharm": {
     "name": "#%%\n"
    }
   },
   "outputs": [],
   "source": [
    "# CONSTANTS\n",
    "sampling_rate = 100 #Sensor Logger samples at 100Hz by default\n",
    "window_sec = 10 #number of seconds to plot - upto 20 should be easy to visualize"
   ]
  },
  {
   "cell_type": "code",
   "execution_count": 4,
   "id": "ad70ae64-167d-48b5-b086-d0682d4a7c12",
   "metadata": {
    "pycharm": {
     "name": "#%%\n"
    }
   },
   "outputs": [],
   "source": [
    "# -- PREPROCESS DATA --\n",
    "# preprocessor.py is python code that converts the files to a workable format.\n",
    "# the timestamp column is converted from nanoseconds to seconds. \n",
    "# each separate file \"Accelerometer\" and \"Magnetometer\" have identical columns x, y, and z, so each are given a distinct renaming."
   ]
  },
  {
   "cell_type": "code",
   "execution_count": 5,
   "id": "a1e1bf86-22cc-4953-90d7-e8fd7fe0b3ec",
   "metadata": {
    "pycharm": {
     "name": "#%%\n"
    }
   },
   "outputs": [],
   "source": [
    "# calc_magnitude - removes effect of device orientation \n",
    "# This function takes a dataframe as a parameter. \n",
    "# It adds new columns calculated from x y & z accel and magnetometer values, with gravity removed as mean. \n",
    "# Its return value is the modified dataframe. "
   ]
  },
  {
   "cell_type": "code",
   "execution_count": 6,
   "id": "4329db8e-1900-4a61-9a08-2eae31e1a2f1",
   "metadata": {
    "pycharm": {
     "name": "#%%\n"
    }
   },
   "outputs": [],
   "source": [
    "def calc_magnitude(data):\n",
    "    data['accel_mag'] = np.sqrt(data['accel_x']**2 + data['accel_y']**2 + data['accel_z']**2)\n",
    "    data['accel_mag'] -= data['accel_mag'].mean()\n",
    "    \n",
    "    data['magno_mag'] = np.sqrt(data['magno_x']**2 + data['magno_y']**2 + data['magno_z']**2)\n",
    "    data['magno_mag'] -= data['magno_mag'].mean()\n",
    "    return data"
   ]
  },
  {
   "cell_type": "code",
   "execution_count": 7,
   "id": "fdf25ffc-e3fb-4a32-a9d7-231d34ad5447",
   "metadata": {
    "pycharm": {
     "name": "#%%\n"
    }
   },
   "outputs": [],
   "source": [
    "# remove_noise - removes high frequency noise from the data\n",
    "# This function takes a dataframe and a sampling_rate as parameters.\n",
    "# This function applies lowpass butterworth filter using scipy's .butter and .filtfilt methods.\n",
    "# The cutoff freq is 5 Hz and order of 2 to filter the data and cut off high freq noise.\n",
    "# The filter is applied to the accel_mag column and stored in a new column called filtered_accel_mag.\n",
    "# Its return value is the modified dataframe."
   ]
  },
  {
   "cell_type": "code",
   "execution_count": 8,
   "id": "1c470d03-b247-4bf7-94f8-022d636b307c",
   "metadata": {
    "pycharm": {
     "name": "#%%\n"
    }
   },
   "outputs": [],
   "source": [
    "def remove_noise(data, sampling_rate):\n",
    "    cutoff = 5\n",
    "    order = 2\n",
    "    nyq = sampling_rate * 0.5\n",
    "    norm_cutoff = cutoff / nyq\n",
    "    b, a = butter(order, norm_cutoff, btype='lowpass')\n",
    "    data['filtered_accel_mag'] = filtfilt(b, a, data['accel_mag'])\n",
    "    data['filtered_magno_mag'] = filtfilt(b, a, data['magno_mag'])\n",
    "    return data"
   ]
  },
  {
   "cell_type": "code",
   "execution_count": 9,
   "id": "ed1a0d97-4998-4901-a564-b36dad17b482",
   "metadata": {
    "pycharm": {
     "name": "#%%\n"
    }
   },
   "outputs": [],
   "source": [
    "# add_features - calculates statistical features from accel data windows. \n",
    "# This function takes a window as a parameter. \n",
    "# It calculates average, maximum, median, minimum, 25th percentile, 75th percentile, and standard deviation of the acceleration magnitude signal\n",
    "# These features are stored in a new dataframe, which is returned. "
   ]
  },
  {
   "cell_type": "code",
   "execution_count": 10,
   "id": "f8bb8f4b-d52a-45b8-b6a5-d7467fdf54d2",
   "metadata": {
    "pycharm": {
     "name": "#%%\n"
    }
   },
   "outputs": [],
   "source": [
    "def add_features(window):\n",
    "    features = {}\n",
    "    features['a_avg'] = [window['filtered_accel_mag'].mean()]\n",
    "    features['a_max'] = [window['filtered_accel_mag'].quantile(1)]\n",
    "    features['a_med'] = [window['filtered_accel_mag'].quantile(0.5)]\n",
    "    features['a_min'] = [window['filtered_accel_mag'].quantile(0)]\n",
    "    features['a_q25'] = [window['filtered_accel_mag'].quantile(0.25)]\n",
    "    features['a_q75'] = [window['filtered_accel_mag'].quantile(0.75)]\n",
    "    features['a_std'] = [window['filtered_accel_mag'].std()]\n",
    "    \n",
    "    features['m_avg'] = [window['filtered_magno_mag'].mean()]\n",
    "    features['m_max'] = [window['filtered_magno_mag'].quantile(1)]\n",
    "    features['m_med'] = [window['filtered_magno_mag'].quantile(0.5)]\n",
    "    features['m_min'] = [window['filtered_magno_mag'].quantile(0)]\n",
    "    features['m_q25'] = [window['filtered_magno_mag'].quantile(0.25)]\n",
    "    features['m_q75'] = [window['filtered_magno_mag'].quantile(0.75)]\n",
    "    features['m_std'] = [window['filtered_magno_mag'].std()]\n",
    "    \n",
    "    return pd.DataFrame(features)"
   ]
  },
  {
   "cell_type": "code",
   "execution_count": 11,
   "id": "2ede09f7-2be0-40dd-9161-708c60f107cb",
   "metadata": {
    "pycharm": {
     "name": "#%%\n"
    }
   },
   "outputs": [],
   "source": [
    "# extract_features - extracts features from accelerometer data applying a sliding window approach.\n",
    "# This function takes parameters including: data (filtered accel data), window_sec (window len in seconds), sample_rate (sampling freq), and activity (behavior label)\n",
    "# The windowing method uses pandas.DataFrame.resample. \n",
    "# For each window in the resampled data, the add_features function is called. \n",
    "# The computed features are appended to a new df and returned. "
   ]
  },
  {
   "cell_type": "code",
   "execution_count": 12,
   "id": "71381609-f368-42e2-9163-dbbd3169e5a5",
   "metadata": {
    "pycharm": {
     "name": "#%%\n"
    }
   },
   "outputs": [],
   "source": [
    "def extract_features(data, window_sec, sample_rate, activity):\n",
    "    print(\"extract_features\")\n",
    "    dfs = []\n",
    "    # reformat timestamp\n",
    "    data['time'] = pd.to_datetime(data['time'])\n",
    "    windows = data.set_index('time').resample('{}S'.format(window_sec))\n",
    "    # Iterate over each window in data using sliding window approach\n",
    "    num_windows = len(windows)\n",
    "    count = 0\n",
    "    for time, window in windows:\n",
    "        count += 1\n",
    "        if count % 1000 == 0:\n",
    "            print(f\"window {count} of {num_windows}\")\n",
    "        # add_features() returns a df\n",
    "        features = add_features(window)\n",
    "        features['activity'] = activity\n",
    "        dfs.append(features)\n",
    "\n",
    "    return pd.concat(dfs, ignore_index = True)"
   ]
  },
  {
   "cell_type": "code",
   "execution_count": 13,
   "id": "34f33568-5b25-4b60-bd91-3aca6c4c2847",
   "metadata": {
    "pycharm": {
     "name": "#%%\n"
    }
   },
   "outputs": [],
   "source": [
    "# -- CLASSIFIER FUNCTIONS --"
   ]
  },
  {
   "cell_type": "code",
   "execution_count": 14,
   "id": "2ee952b4-60d4-4b11-a8b4-b7c7e0c63913",
   "metadata": {
    "pycharm": {
     "name": "#%%\n"
    }
   },
   "outputs": [],
   "source": [
    "# viz_tree - creates a visualization using sklearn.plot_tree "
   ]
  },
  {
   "cell_type": "code",
   "execution_count": 15,
   "id": "b30facd5-b9d0-4332-a87b-9b6b99cf8905",
   "metadata": {
    "pycharm": {
     "name": "#%%\n"
    }
   },
   "outputs": [],
   "source": [
    "def viz_tree(dt_model,feature_names,cnames):\n",
    "    fig, ax = plt.subplots(figsize=(12,7.5))\n",
    "    tree.plot_tree(dt_model,  \n",
    "                   feature_names=feature_names,\n",
    "                   fontsize=12,\n",
    "                   class_names=cnames,\n",
    "                   filled=True,\n",
    "                   ax=ax)\n",
    "\n",
    "    plt.title('Decision Tree')\n",
    "    plt.savefig('dt.png')"
   ]
  },
  {
   "cell_type": "code",
   "execution_count": 16,
   "id": "cb05206d-a89a-4656-ba30-24014ff3d014",
   "metadata": {
    "pycharm": {
     "name": "#%%\n"
    }
   },
   "outputs": [],
   "source": [
    "# train_tree - trains a Decision Tree Classifier on the provided features and labels\n",
    "# This function takes frames as a parameter: a DataFrame containing the computed features and labels\n",
    "# The function splits the dataframe using sklearn.model_selection into features matrix X and labels vector y\n",
    "# It creates training and test sets using test size of 0.3 and a random state of 42.\n",
    "# It trains the Decision Tree Classifier using sklearn.tree with entropy criterion and maximum depth of 3\n",
    "# The return values are: dt_model (the tree model), dt_cm (the confusion matrix), and acc (accuracy score)"
   ]
  },
  {
   "cell_type": "code",
   "execution_count": 17,
   "id": "8d787427-5c79-45b3-a51e-8d1a1142040d",
   "metadata": {
    "pycharm": {
     "name": "#%%\n"
    }
   },
   "outputs": [],
   "source": [
    "def train_tree(frames):\n",
    "    # X = feature columns \n",
    "    #X = frames[['avg', 'max', 'med', 'min', 'q25', 'q75', 'std']]\n",
    "    frames = frames.dropna()\n",
    "    print(frames)\n",
    "    X = frames[['a_avg',\n",
    "                'a_max',\n",
    "                'a_med',\n",
    "                'a_min',\n",
    "                'a_q25',\n",
    "                'a_q75',\n",
    "                'a_std',\n",
    "                'm_avg',\n",
    "                'm_max',\n",
    "                'm_med',\n",
    "                'm_min',\n",
    "                'm_q25',\n",
    "                'm_q75', \n",
    "                'm_std']]\n",
    "    # y = target column\n",
    "    y = frames['activity']\n",
    "\n",
    "    # Split data\n",
    "    X_train, X_test, y_train, y_test = train_test_split(X, y, test_size=0.3, random_state=42) \n",
    "\n",
    "    # Create model with 'entropy' criterion and max dept 3 on training set\n",
    "    dt_model = DecisionTreeClassifier(criterion='entropy',max_depth=3).fit(X_train, y_train)\n",
    "    dt_pred = dt_model.predict(X_test)\n",
    "\n",
    "    # predict test set as 'dt_model' and 'dt_cm' and calculate accuracy as 'acc'\n",
    "    acc = dt_model.score(X_test, y_test)\n",
    "    dt_cm = confusion_matrix(y_test, dt_pred, labels=dt_model.classes_)\n",
    "    \n",
    "    print(classification_report(y_test, dt_pred))\n",
    "    print(dt_cm)\n",
    "    print(\"Accuracy on test set:\", acc)\n",
    "    print(\"Accuracy, Rounded to Nearest Hundredth:\", acc.round(2))\n",
    "\n",
    "    return dt_model,dt_cm,acc"
   ]
  },
  {
   "cell_type": "code",
   "execution_count": 18,
   "id": "222147df-c5b8-4d3a-a14d-3f2a77a652c1",
   "metadata": {
    "pycharm": {
     "name": "#%%\n"
    }
   },
   "outputs": [],
   "source": [
    "# create_classifier - creates a Decision Tree Classifier from all provided data files.\n",
    "# The parameters include: all_files (a list of filenames) \n",
    "# For each file in all_files, data is loaded into a dataframe using pd.read_csv.\n",
    "# calc_magnitude, remove_noise, extract_features are called.\n",
    "# The features are appended to a new df, used to train the decision tree.\n",
    "# the dt_model, dt_cm, and acc are created from this and returned.\n",
    "# The model is saved using pickle."
   ]
  },
  {
   "cell_type": "code",
   "execution_count": 19,
   "id": "526562e6-2683-4677-8631-2d18b778dd2b",
   "metadata": {
    "pycharm": {
     "name": "#%%\n"
    }
   },
   "outputs": [],
   "source": [
    "def create_classifier(all_files):\n",
    "    dfs = []\n",
    "    if os.path.isfile(\"dt_model2.pkl\"):\n",
    "        with open(\"dt_model2.pkl\", \"rb\") as file:\n",
    "            model = pickle.load(file)\n",
    "            return (model, None, None)\n",
    "    for file in all_files:\n",
    "        print(file)\n",
    "        sampling_rate = 100\n",
    "        activity = os.path.basename(os.path.dirname(file))\n",
    "        #data = pd.read_csv(file,parse_dates=['timestamp'],index_col='timestamp',)\n",
    "        data = pd.read_csv(file)\n",
    "        data = calc_magnitude(data)\n",
    "        data = remove_noise(data,sampling_rate)        \n",
    "        feature_frames = extract_features(data,10,sampling_rate,activity)\n",
    "        dfs.append(feature_frames)\n",
    "    \n",
    "    features_data = pd.concat(dfs, ignore_index = True)\n",
    "    dt_model, dt_cm, acc = train_tree(features_data)\n",
    "    \n",
    "    # save trained model using pickle.dump\n",
    "    pickle.dump(dt_model, open(\"dt_model2.pkl\", \"wb\"))\n",
    "    return dt_model, dt_cm, acc"
   ]
  },
  {
   "cell_type": "code",
   "execution_count": 20,
   "id": "24f2657a-cb98-4b21-8bdd-8b67c885f1cf",
   "metadata": {
    "pycharm": {
     "name": "#%%\n"
    }
   },
   "outputs": [],
   "source": [
    "# classify_live_window - preprocesses data in a similar manner as before, including:\n",
    "# calc_magnitude, remove_noise, and extrat_features from data window. \n",
    "# Then the features are fed to the trained decision tree model to predict activity."
   ]
  },
  {
   "cell_type": "code",
   "execution_count": 21,
   "id": "2f9833d5-7718-41f3-b312-9ccaf7280b2f",
   "metadata": {
    "pycharm": {
     "name": "#%%\n"
    }
   },
   "outputs": [],
   "source": [
    "def classify_live_window(df):\n",
    "    \n",
    "    # Filter accelerometer data \n",
    "    df = df[df['accel_x'].notna() & df['accel_y'].notna() & df['accel_z'].notna() & df['magno_x'].notna() & df['magno_y'].notna() & df['magno_z'].notna()]\n",
    "    # df_valid = df_accel[['accel_x', 'accel_y', 'accel_z']].rename(columns={\n",
    "    #   'accel_x': 'x',\n",
    "    #   'accel_y': 'y',\n",
    "    #   'accel_z': 'z'  \n",
    "    # })\n",
    "    \n",
    "    # Filter mag data\n",
    "    #df_mag = df[df['magno_x'].notna() & df['magno_y'].notna() & df['magno_z'].notna()]\n",
    "    # df_valid = df_mag[['magno_x', 'magno_y', 'magno_z']].rename(columns={\n",
    "    #   'magno_x': 'mx',\n",
    "    #   'magno_y': 'my',\n",
    "    #   'magno_z': 'mz'  \n",
    "    # })   \n",
    "\n",
    "    # Calculate accel_mag\n",
    "    df = calc_magnitude(df) \n",
    "\n",
    "    # Add features\n",
    "    df = add_features(df) \n",
    "    X = df[['a_avg',\n",
    "                'a_max',\n",
    "                'a_med',\n",
    "                'a_min',\n",
    "                'a_q25',\n",
    "                'a_q75',\n",
    "                'a_std', \n",
    "                'm_avg',\n",
    "                'm_max',\n",
    "                'm_med',\n",
    "                'm_min',\n",
    "                'm_q25',\n",
    "                'm_q75', \n",
    "                'm_std']] \n",
    "\n",
    "    # Load model\n",
    "    with open('dt_model.pkl', 'rb') as f:\n",
    "        model = pickle.load(f)\n",
    "        \n",
    "    # Make prediction\n",
    "    y_pred = model.predict(df)\n",
    "\n",
    "    return(y_pred)"
   ]
  },
  {
   "cell_type": "code",
   "execution_count": 22,
   "id": "171a832f-f6ad-4587-a5c5-ee4b69605dca",
   "metadata": {
    "pycharm": {
     "name": "#%%\n"
    }
   },
   "outputs": [],
   "source": [
    "# test_live_classifier - Uses synthetic data to test functionality\n",
    "# This function creates a sample DataFrame with a single row repeated 1000 times to simulate a live stream of data.\n",
    "# classify_live_window() is called with this df as its argument to preprocess the data. \n",
    "# Then the features are fed to the trained decision tree model to predict activity (y_pred)\n",
    "# y_pred is printed to the console."
   ]
  },
  {
   "cell_type": "code",
   "execution_count": 23,
   "id": "06fa56c1-fc4e-464f-8505-862024b351d9",
   "metadata": {
    "pycharm": {
     "name": "#%%\n"
    }
   },
   "outputs": [],
   "source": [
    "def test_live_classifier(): # Testing the live model\n",
    "    # Generate sample DataFrame\n",
    "    data = {'accel_x': [0.011531], \n",
    "            'accel_y': [0.002931],\n",
    "            'accel_z': [0.019604],\n",
    "            'magno_x': [0.011531], \n",
    "            'magno_y': [0.002931],\n",
    "            'magno_z': [0.019604], \n",
    "            'time': ['2023-08-01 18:40:43.344408']}\n",
    "\n",
    "    df = pd.DataFrame(data)\n",
    "\n",
    "    # Repeat rows to get 1000 rows\n",
    "    df = pd.concat([df]*1000, ignore_index=True) \n",
    "\n",
    "    # Call function\n",
    "    y_pred = classify_live_window(df)\n",
    "\n",
    "    print(y_pred)"
   ]
  },
  {
   "cell_type": "code",
   "execution_count": 24,
   "id": "bf04cc0f-7a05-4c12-89b6-3f15976649bc",
   "metadata": {
    "pycharm": {
     "name": "#%%\n"
    }
   },
   "outputs": [
    {
     "data": {
      "image/png": "[encoded data removed]",
      "text/plain": [
       "<Figure size 864x540 with 1 Axes>"
      ]
     },
     "metadata": {
      "needs_background": "light"
     },
     "output_type": "display_data"
    }
   ],
   "source": [
    "# -- MAIN --\n",
    "# Go through the individual filenames by changing the below filenames and path and record accuracy in above table  \n",
    "#filenames = glob.glob(\"data/assignment_data/**/*\")\n",
    "filenames = glob.glob(\"data/steps_data/**/AccelMagno.csv\")\n",
    "# create_classifier saves to pickle\n",
    "dt_model,dt_cm,acc = create_classifier(filenames)\n",
    "\n",
    "fnames = ['a_avg',\n",
    "          'a_max',\n",
    "          'a_med',\n",
    "          'a_min',\n",
    "          'a_q25',\n",
    "          'a_q75',\n",
    "          'a_std',\n",
    "          'm_avg',\n",
    "          'm_max',\n",
    "          'm_med',\n",
    "          'm_min',\n",
    "          'm_q25',\n",
    "          'm_q75',\n",
    "          'm_std']\n",
    "\n",
    "viz_tree(dt_model, fnames, ['pacing', 'not_pacing'])\n",
    "\n",
    "if dt_cm and acc:\n",
    "    print(acc)\n",
    "    print(acc.round(2))\n",
    "    "
   ]
  },
  {
   "cell_type": "code",
   "execution_count": null,
   "id": "7d5aee73-02fa-485b-bb1b-17e38f2af3e1",
   "metadata": {
    "pycharm": {
     "name": "#%%\n"
    }
   },
   "outputs": [],
   "source": []
  },
  {
   "cell_type": "code",
   "execution_count": null,
   "id": "c7cb6e30-cf1a-4beb-bfd9-2beb66955bcd",
   "metadata": {
    "pycharm": {
     "name": "#%%\n"
    }
   },
   "outputs": [],
   "source": []
  }
 ],
 "metadata": {
  "kernelspec": {
   "display_name": "Python 3 (ipykernel)",
   "language": "python",
   "name": "python3"
  },
  "language_info": {
   "codemirror_mode": {
    "name": "ipython",
    "version": 3
   },
   "file_extension": ".py",
   "mimetype": "text/x-python",
   "name": "python",
   "nbconvert_exporter": "python",
   "pygments_lexer": "ipython3",
   "version": "3.9.12"
  }
 },
 "nbformat": 4,
 "nbformat_minor": 5
}
